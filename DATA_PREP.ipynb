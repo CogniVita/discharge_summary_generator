{
  "nbformat": 4,
  "nbformat_minor": 0,
  "metadata": {
    "colab": {
      "provenance": [],
      "toc_visible": true
    },
    "kernelspec": {
      "name": "python3",
      "display_name": "Python 3"
    },
    "language_info": {
      "name": "python"
    },
    "widgets": {
      "application/vnd.jupyter.widget-state+json": {
        "33a254fb969d47a5a0dcd077f384a971": {
          "model_module": "@jupyter-widgets/controls",
          "model_name": "HTMLModel",
          "model_module_version": "1.5.0",
          "state": {
            "_dom_classes": [],
            "_model_module": "@jupyter-widgets/controls",
            "_model_module_version": "1.5.0",
            "_model_name": "HTMLModel",
            "_view_count": null,
            "_view_module": "@jupyter-widgets/controls",
            "_view_module_version": "1.5.0",
            "_view_name": "HTMLView",
            "description": "",
            "description_tooltip": null,
            "layout": "IPY_MODEL_d444ad6a1d33454184b1cf9363782069",
            "placeholder": "​",
            "style": "IPY_MODEL_48aa7f0c3b86442aad75e874ef6abea7",
            "value": "<div style=\"width=100%\"><div style=\"display:inline-block;width:50%; white-space: pre-wrap; line-height: 1.2\">853    Brief Hospital Course:\\nA/P: 70 year old woman...\n55     HOSPITAL COURSE:  The patient was admitted to ...\n416    HOSPITAL COURSE:   The patient was admitted to...\n8      Brief Hospital Course:\\nPatient presented elec...\n673    Brief Hospital Course:\\n76 F w/ Shatzki's ring...\n                             ...                        \n713    Brief Hospital Course:\\n78M with hx of CAD s/p...\n440    Brief Hospital Course:\\nAssessment/Plan: 72 ye...\n804    Brief Hospital Course:\\nMr. [**Known lastname ...\n938    HOSPITAL COURSE:  The patient was admitted to ...\n348    Brief Hospital Course:\\n82 yo man with severe ...\nName: HOS_COURSE, Length: 100, dtype: object</div><div style=\"display:inline-block;width:50%; white-space: pre-wrap; line-height: 1.2\">853    [VS, GEN, HEENT, CV, PUL, ABD, EXT, NEURO, ECH...\n55     [HISTORY OF PRESENT ILLNESS, PAST MEDICAL HIST...\n416    [HISTORY OF PRESENT ILLNESS, MEDICAL INTENSIVE...\n8                         [PHYSICAL EXAM UPON DISCHARGE]\n673                                         [HR, BP, RR]\n                             ...                        \n713    [HEENT, CV, GU, IMPRESSION, IMPRESSION, IMPRES...\n440    [ROS, HEENT, NECK, CV, LUNGS, ABD, EXT, IMPRES...\n804    [ROS, ENT, IMPRESSION, CT CHEST, IMPRESSION, I...\n938    [HISTORY OF PRESENT ILLNESS, PAST MEDICAL HIST...\n348                         [HEENT, CV, FINAL DIAGNOSIS]\nName: HOS_COURSE_SUBSECTIONS, Length: 100, dtype: object</div></div>"
          }
        },
        "d444ad6a1d33454184b1cf9363782069": {
          "model_module": "@jupyter-widgets/base",
          "model_name": "LayoutModel",
          "model_module_version": "1.2.0",
          "state": {
            "_model_module": "@jupyter-widgets/base",
            "_model_module_version": "1.2.0",
            "_model_name": "LayoutModel",
            "_view_count": null,
            "_view_module": "@jupyter-widgets/base",
            "_view_module_version": "1.2.0",
            "_view_name": "LayoutView",
            "align_content": null,
            "align_items": null,
            "align_self": null,
            "border": null,
            "bottom": null,
            "display": null,
            "flex": null,
            "flex_flow": null,
            "grid_area": null,
            "grid_auto_columns": null,
            "grid_auto_flow": null,
            "grid_auto_rows": null,
            "grid_column": null,
            "grid_gap": null,
            "grid_row": null,
            "grid_template_areas": null,
            "grid_template_columns": null,
            "grid_template_rows": null,
            "height": null,
            "justify_content": null,
            "justify_items": null,
            "left": null,
            "margin": null,
            "max_height": null,
            "max_width": null,
            "min_height": null,
            "min_width": null,
            "object_fit": null,
            "object_position": null,
            "order": null,
            "overflow": null,
            "overflow_x": null,
            "overflow_y": null,
            "padding": null,
            "right": null,
            "top": null,
            "visibility": null,
            "width": null
          }
        },
        "48aa7f0c3b86442aad75e874ef6abea7": {
          "model_module": "@jupyter-widgets/controls",
          "model_name": "DescriptionStyleModel",
          "model_module_version": "1.5.0",
          "state": {
            "_model_module": "@jupyter-widgets/controls",
            "_model_module_version": "1.5.0",
            "_model_name": "DescriptionStyleModel",
            "_view_count": null,
            "_view_module": "@jupyter-widgets/base",
            "_view_module_version": "1.2.0",
            "_view_name": "StyleView",
            "description_width": ""
          }
        }
      }
    }
  },
  "cells": [
    {
      "cell_type": "markdown",
      "source": [
        "# **DATA EXTRACTION**"
      ],
      "metadata": {
        "id": "DA__UBsGuFVI"
      }
    },
    {
      "cell_type": "markdown",
      "source": [
        "## **Import Libraries & MIMIC-III Data Files**"
      ],
      "metadata": {
        "id": "yx1M4N-EE2Mn"
      }
    },
    {
      "cell_type": "code",
      "source": [
        "%load_ext autoreload\n",
        "%autoreload 2"
      ],
      "metadata": {
        "id": "jKhULKT7AMkA"
      },
      "execution_count": null,
      "outputs": []
    },
    {
      "cell_type": "code",
      "source": [
        "import pandas as pd\n",
        "import numpy as np\n",
        "from datetime import datetime\n",
        "import re\n",
        "from collections import Counter\n",
        "from itertools import chain\n",
        "import pickle\n",
        "\n",
        "import pandas as pd\n",
        "from ipywidgets.widgets import HTML, Output, HBox, Button, Text\n",
        "from IPython.display import display, clear_output\n",
        "import json\n",
        "\n",
        "import sys\n",
        "sys.path.append('/content/BHC-Summarisation')\n",
        "\n",
        "from mimic_note_clean import parse_radiology_report_text, parse_echo_report_text, parse_nurs_prog_notes_text, \\\n",
        "    parse_phys_prog_notes_text, parse_phys_intens_notes_text, parse_phys_attend_notes_text, parse_phys_res_attnd_adm_notes_text, \\\n",
        "    parse_phys_res_attn_micu_notes_text, parse_phys_res_attn_prog_notes_text, parse_phys_surgical_adm_notes_text, \\\n",
        "    parse_respiratory_care_shift_note\n",
        "from section_parser import section_discharge_texts, dis_sum_brief_hos_course_headers"
      ],
      "metadata": {
        "id": "o2lABV-RAPEG"
      },
      "execution_count": null,
      "outputs": []
    },
    {
      "cell_type": "code",
      "source": [
        "notes = pd.read_csv(\"/content/drive/MyDrive/MIMIC-III/noteevents.csv\")"
      ],
      "metadata": {
        "id": "l2LNP_dJ6Q1a"
      },
      "execution_count": null,
      "outputs": []
    },
    {
      "cell_type": "code",
      "source": [
        "admissions = pd.read_csv(r'/content/drive/MyDrive/MIMIC-III/ADMISSIONS.csv')"
      ],
      "metadata": {
        "id": "MKn4itkQAWbN"
      },
      "execution_count": null,
      "outputs": []
    },
    {
      "cell_type": "code",
      "source": [
        "services = pd.read_csv(r'/content/drive/MyDrive/MIMIC-III/SERVICES.csv')"
      ],
      "metadata": {
        "id": "27L07uneApw8"
      },
      "execution_count": null,
      "outputs": []
    },
    {
      "cell_type": "code",
      "source": [
        "patients = pd.read_csv(\"/content/drive/MyDrive/MIMIC-III/PATIENTS.csv\")"
      ],
      "metadata": {
        "id": "vaV7GyaRugqA"
      },
      "execution_count": null,
      "outputs": []
    },
    {
      "cell_type": "code",
      "source": [
        "precriptions = pd.read_csv(\"/content/drive/MyDrive/MIMIC-III/PRESCRIPTIONS.csv\")"
      ],
      "metadata": {
        "colab": {
          "base_uri": "https://localhost:8080/"
        },
        "id": "RjFtVTxCusWY",
        "outputId": "e5a5de8f-ad26-4523-f20d-47d3d8f251a5"
      },
      "execution_count": null,
      "outputs": [
        {
          "output_type": "stream",
          "name": "stderr",
          "text": [
            "<ipython-input-8-997d87bf45db>:1: DtypeWarning: Columns (11) have mixed types. Specify dtype option on import or set low_memory=False.\n",
            "  precriptions = pd.read_csv(\"/content/drive/MyDrive/MIMIC-III/PRESCRIPTIONS.csv\")\n"
          ]
        }
      ]
    },
    {
      "cell_type": "markdown",
      "source": [
        "##**Straight-Forward Extraction**"
      ],
      "metadata": {
        "id": "C_fPZRN6xL8b"
      }
    },
    {
      "cell_type": "code",
      "source": [
        "admissions_columns = [\"SUBJECT_ID\", \"HADM_ID\", \"ADMITTIME\", \"DISCHTIME\", \"DIAGNOSIS\"]\n",
        "admissions_extracted = admissions[admissions_columns]\n",
        "\n",
        "services_columns = [\"SUBJECT_ID\", \"HADM_ID\", \"CURR_SERVICE\"]\n",
        "services_extracted = services[services_columns]\n",
        "\n",
        "patients_columns = [\"SUBJECT_ID\",  \"GENDER\", \"DOB\"]\n",
        "patients_extracted = patients[patients_columns]\n",
        "\n",
        "precriptions_columns = [ 'SUBJECT_ID', 'HADM_ID', 'STARTDATE', 'ENDDATE', 'DRUG']\n",
        "precriptions_extracted = precriptions[precriptions_columns]\n",
        "\n",
        "data = pd.merge(admissions_extracted, services_extracted, on=[\"SUBJECT_ID\", \"HADM_ID\"], how=\"inner\")\n",
        "temp = pd.merge(patients_extracted,precriptions_extracted, on=[\"SUBJECT_ID\"], how=\"inner\")\n",
        "data = pd.merge(data,temp, on=[\"SUBJECT_ID\", \"HADM_ID\"], how=\"inner\")"
      ],
      "metadata": {
        "id": "WuoDrBk9C5zI"
      },
      "execution_count": null,
      "outputs": []
    },
    {
      "cell_type": "code",
      "source": [
        "data['ADMITTIME'] = pd.to_datetime(data['ADMITTIME'])\n",
        "data['DISCHTIME'] = pd.to_datetime(data['DISCHTIME'])\n",
        "data['STARTDATE'] = pd.to_datetime(data['STARTDATE'])\n",
        "data['ENDDATE'] = pd.to_datetime(data['ENDDATE'])"
      ],
      "metadata": {
        "id": "8JAEul2jBqE8"
      },
      "execution_count": null,
      "outputs": []
    },
    {
      "cell_type": "markdown",
      "source": [
        "##**Enriching data with diagonosis and procedures data**"
      ],
      "metadata": {
        "id": "D4srwdW0xp38"
      }
    },
    {
      "cell_type": "code",
      "source": [
        "d_path = '/content/drive/MyDrive/MIMIC-III/DIAGNOSES_ICD.csv'\n",
        "dcode_path = '/content/drive/MyDrive/MIMIC-III/D_ICD_DIAGNOSES.csv'"
      ],
      "metadata": {
        "id": "jzUkPgpwFCnN"
      },
      "execution_count": null,
      "outputs": []
    },
    {
      "cell_type": "code",
      "source": [
        "p_path = '/content/drive/MyDrive/MIMIC-III/PROCEDURES_ICD.csv'\n",
        "pcode_path = '/content/drive/MyDrive/MIMIC-III/D_ICD_PROCEDURES.csv'"
      ],
      "metadata": {
        "id": "0Lo5rcELFT_k"
      },
      "execution_count": null,
      "outputs": []
    },
    {
      "cell_type": "code",
      "source": [
        "diagnosis = pd.read_csv(d_path)\n",
        "diagnosis_codes = pd.read_csv(dcode_path)"
      ],
      "metadata": {
        "id": "95KFIIGrF_f8"
      },
      "execution_count": null,
      "outputs": []
    },
    {
      "cell_type": "code",
      "source": [
        "procedures = pd.read_csv(p_path)\n",
        "procedures_codes = pd.read_csv(pcode_path)"
      ],
      "metadata": {
        "id": "UyQlApivGVV7"
      },
      "execution_count": null,
      "outputs": []
    },
    {
      "cell_type": "code",
      "source": [
        "diagnosis.columns"
      ],
      "metadata": {
        "colab": {
          "base_uri": "https://localhost:8080/"
        },
        "id": "B85oZSBhGbbr",
        "outputId": "7fa84a62-d18b-4d59-8e5c-cda21ce3e338"
      },
      "execution_count": null,
      "outputs": [
        {
          "output_type": "execute_result",
          "data": {
            "text/plain": [
              "Index(['ROW_ID', 'SUBJECT_ID', 'HADM_ID', 'SEQ_NUM', 'ICD9_CODE'], dtype='object')"
            ]
          },
          "metadata": {},
          "execution_count": 15
        }
      ]
    },
    {
      "cell_type": "code",
      "source": [
        "diagnosis_codes.columns"
      ],
      "metadata": {
        "colab": {
          "base_uri": "https://localhost:8080/"
        },
        "id": "ADDYQHFhGh_T",
        "outputId": "c836d0c0-ae9b-4910-b05c-25d7603de5b8"
      },
      "execution_count": null,
      "outputs": [
        {
          "output_type": "execute_result",
          "data": {
            "text/plain": [
              "Index(['ROW_ID', 'ICD9_CODE', 'SHORT_TITLE', 'LONG_TITLE'], dtype='object')"
            ]
          },
          "metadata": {},
          "execution_count": 16
        }
      ]
    },
    {
      "cell_type": "code",
      "source": [
        "procedures.columns"
      ],
      "metadata": {
        "colab": {
          "base_uri": "https://localhost:8080/"
        },
        "id": "HtzUe_MRGkMT",
        "outputId": "ab69697b-0bcd-4b0d-d0fd-f25d4f278da0"
      },
      "execution_count": null,
      "outputs": [
        {
          "output_type": "execute_result",
          "data": {
            "text/plain": [
              "Index(['ROW_ID', 'SUBJECT_ID', 'HADM_ID', 'SEQ_NUM', 'ICD9_CODE'], dtype='object')"
            ]
          },
          "metadata": {},
          "execution_count": 17
        }
      ]
    },
    {
      "cell_type": "code",
      "source": [
        "procedures_codes.columns"
      ],
      "metadata": {
        "colab": {
          "base_uri": "https://localhost:8080/"
        },
        "id": "qlKncaH9GmJq",
        "outputId": "b8f8f787-59a9-45c6-ffd9-4fa57928393a"
      },
      "execution_count": null,
      "outputs": [
        {
          "output_type": "execute_result",
          "data": {
            "text/plain": [
              "Index(['ROW_ID', 'ICD9_CODE', 'SHORT_TITLE', 'LONG_TITLE'], dtype='object')"
            ]
          },
          "metadata": {},
          "execution_count": 18
        }
      ]
    },
    {
      "cell_type": "code",
      "source": [
        "diagnosis = diagnosis[ ['SUBJECT_ID', 'HADM_ID', 'ICD9_CODE']]\n",
        "diagnosis_codes = diagnosis_codes[['ICD9_CODE', 'LONG_TITLE']]"
      ],
      "metadata": {
        "id": "CWOHCSEqJbNO"
      },
      "execution_count": null,
      "outputs": []
    },
    {
      "cell_type": "code",
      "source": [
        "procedures = procedures[ ['SUBJECT_ID', 'HADM_ID', 'ICD9_CODE']]\n",
        "procedures_codes = procedures_codes[['ICD9_CODE', 'LONG_TITLE']]"
      ],
      "metadata": {
        "id": "8Nb9IbI4KBz1"
      },
      "execution_count": null,
      "outputs": []
    },
    {
      "cell_type": "code",
      "source": [
        "diagnosis_ = pd.merge(diagnosis, diagnosis_codes, on=[\"ICD9_CODE\"], how=\"inner\")\n",
        "procedures_ = pd.merge(procedures, procedures_codes, on=[\"ICD9_CODE\"], how=\"inner\")"
      ],
      "metadata": {
        "id": "I_MRnILUGo2S"
      },
      "execution_count": null,
      "outputs": []
    },
    {
      "cell_type": "code",
      "source": [
        "diagnosis_.columns"
      ],
      "metadata": {
        "colab": {
          "base_uri": "https://localhost:8080/"
        },
        "id": "Hm6e5Us3JRmX",
        "outputId": "d1b18963-97b4-4993-b4ba-d68d855623a4"
      },
      "execution_count": null,
      "outputs": [
        {
          "output_type": "execute_result",
          "data": {
            "text/plain": [
              "Index(['SUBJECT_ID', 'HADM_ID', 'ICD9_CODE', 'LONG_TITLE'], dtype='object')"
            ]
          },
          "metadata": {},
          "execution_count": 22
        }
      ]
    },
    {
      "cell_type": "code",
      "source": [
        "procedures_.columns"
      ],
      "metadata": {
        "colab": {
          "base_uri": "https://localhost:8080/"
        },
        "id": "NzSI0tXJJUKW",
        "outputId": "381a52b3-4762-404e-a243-b0737b02260c"
      },
      "execution_count": null,
      "outputs": [
        {
          "output_type": "execute_result",
          "data": {
            "text/plain": [
              "Index(['SUBJECT_ID', 'HADM_ID', 'ICD9_CODE', 'LONG_TITLE'], dtype='object')"
            ]
          },
          "metadata": {},
          "execution_count": 23
        }
      ]
    },
    {
      "cell_type": "code",
      "source": [
        "diagnosis_enriched = diagnosis_.groupby(['SUBJECT_ID', 'HADM_ID']).agg({'LONG_TITLE': lambda x: list(x)}).reset_index()"
      ],
      "metadata": {
        "id": "HmEbWVKmKgTV"
      },
      "execution_count": null,
      "outputs": []
    },
    {
      "cell_type": "code",
      "source": [
        "diagnosis_enriched.columns"
      ],
      "metadata": {
        "colab": {
          "base_uri": "https://localhost:8080/"
        },
        "id": "BXdNFYhoMC7q",
        "outputId": "b24f4f82-69b5-4c57-a049-320cb53af837"
      },
      "execution_count": null,
      "outputs": [
        {
          "output_type": "execute_result",
          "data": {
            "text/plain": [
              "Index(['SUBJECT_ID', 'HADM_ID', 'LONG_TITLE'], dtype='object')"
            ]
          },
          "metadata": {},
          "execution_count": 25
        }
      ]
    },
    {
      "cell_type": "code",
      "source": [
        "diagnosis_enriched.rename(columns={'LONG_TITLE': 'DIAGNOSIS_TITLES'}, inplace=True)"
      ],
      "metadata": {
        "id": "90lW0KVuOyWd"
      },
      "execution_count": null,
      "outputs": []
    },
    {
      "cell_type": "code",
      "source": [
        "procedures_enriched = procedures_.groupby(['SUBJECT_ID', 'HADM_ID']).agg({'LONG_TITLE': lambda x: list(x)}).reset_index()"
      ],
      "metadata": {
        "id": "UFI9Ff_HOOkX"
      },
      "execution_count": null,
      "outputs": []
    },
    {
      "cell_type": "code",
      "source": [
        "procedures_enriched.rename(columns={'LONG_TITLE': 'PROCEDURE_TITLES'}, inplace=True)"
      ],
      "metadata": {
        "id": "nDIA2t2NO2wm"
      },
      "execution_count": null,
      "outputs": []
    },
    {
      "cell_type": "code",
      "source": [
        "procedures_enriched.columns"
      ],
      "metadata": {
        "colab": {
          "base_uri": "https://localhost:8080/"
        },
        "id": "HUrEjlqdOnXx",
        "outputId": "4d6615bd-6dec-4e9e-ee1f-bbb695572542"
      },
      "execution_count": null,
      "outputs": [
        {
          "output_type": "execute_result",
          "data": {
            "text/plain": [
              "Index(['SUBJECT_ID', 'HADM_ID', 'PROCEDURE_TITLES'], dtype='object')"
            ]
          },
          "metadata": {},
          "execution_count": 29
        }
      ]
    },
    {
      "cell_type": "code",
      "source": [
        "data = pd.merge(data, diagnosis_enriched, on=[\"SUBJECT_ID\", \"HADM_ID\"], how=\"inner\")\n",
        "data = pd.merge(data, procedures_enriched, on=[\"SUBJECT_ID\", \"HADM_ID\"], how=\"inner\")"
      ],
      "metadata": {
        "id": "DlICYXlhOs_l"
      },
      "execution_count": null,
      "outputs": []
    },
    {
      "cell_type": "code",
      "source": [
        "data.columns"
      ],
      "metadata": {
        "colab": {
          "base_uri": "https://localhost:8080/"
        },
        "id": "OqYg7YHCPnP8",
        "outputId": "eed17c10-bdef-4b1e-cc62-ae945cc2694b"
      },
      "execution_count": null,
      "outputs": [
        {
          "output_type": "execute_result",
          "data": {
            "text/plain": [
              "Index(['SUBJECT_ID', 'HADM_ID', 'ADMITTIME', 'DISCHTIME', 'DIAGNOSIS',\n",
              "       'CURR_SERVICE', 'GENDER', 'DOB', 'STARTDATE', 'ENDDATE', 'DRUG',\n",
              "       'DIAGNOSIS_TITLES', 'PROCEDURE_TITLES'],\n",
              "      dtype='object')"
            ]
          },
          "metadata": {},
          "execution_count": 31
        }
      ]
    },
    {
      "cell_type": "code",
      "source": [
        "duplicate = notes"
      ],
      "metadata": {
        "id": "7DS7H7xIPo58"
      },
      "execution_count": null,
      "outputs": []
    },
    {
      "cell_type": "markdown",
      "source": [
        "##**Handling Clinical Notes**"
      ],
      "metadata": {
        "id": "32QT5tpS0hBO"
      }
    },
    {
      "cell_type": "markdown",
      "source": [
        "###**Organize Data**"
      ],
      "metadata": {
        "id": "sc0Z6vXb2526"
      }
    },
    {
      "cell_type": "code",
      "source": [
        "notes = duplicate.iloc[:1000]"
      ],
      "metadata": {
        "id": "OifQCZVNP0IU"
      },
      "execution_count": null,
      "outputs": []
    },
    {
      "cell_type": "code",
      "source": [
        "notes.columns"
      ],
      "metadata": {
        "colab": {
          "base_uri": "https://localhost:8080/"
        },
        "id": "upBfuLF3WU6j",
        "outputId": "19b84726-a85f-4d7c-f7d5-be6307997d63"
      },
      "execution_count": null,
      "outputs": [
        {
          "output_type": "execute_result",
          "data": {
            "text/plain": [
              "Index(['Unnamed: 0', 'ROW_ID', 'SUBJECT_ID', 'HADM_ID', 'CHARTDATE',\n",
              "       'CHARTTIME', 'STORETIME', 'CATEGORY', 'DESCRIPTION', 'CGID', 'ISERROR',\n",
              "       'TEXT'],\n",
              "      dtype='object')"
            ]
          },
          "metadata": {},
          "execution_count": 34
        }
      ]
    },
    {
      "cell_type": "code",
      "source": [
        "columns_to_drop = ['ROW_ID', 'CHARTTIME',\n",
        "       'STORETIME', 'CATEGORY', 'DESCRIPTION', 'CGID', 'ISERROR']\n",
        "notes.drop(columns=columns_to_drop, inplace=True)"
      ],
      "metadata": {
        "colab": {
          "base_uri": "https://localhost:8080/"
        },
        "id": "GJQNPT4pWLLE",
        "outputId": "6ac2fcfd-f689-4bf2-fdc4-2160ad449cc7"
      },
      "execution_count": null,
      "outputs": [
        {
          "output_type": "stream",
          "name": "stderr",
          "text": [
            "<ipython-input-35-514a5782e04c>:3: SettingWithCopyWarning: \n",
            "A value is trying to be set on a copy of a slice from a DataFrame\n",
            "\n",
            "See the caveats in the documentation: https://pandas.pydata.org/pandas-docs/stable/user_guide/indexing.html#returning-a-view-versus-a-copy\n",
            "  notes.drop(columns=columns_to_drop, inplace=True)\n"
          ]
        }
      ]
    },
    {
      "cell_type": "code",
      "source": [
        "notes['CHARTDATE'] = pd.to_datetime(notes['CHARTDATE'])\n",
        "notes['DOB'] = pd.to_datetime(notes['DOB'])"
      ],
      "metadata": {
        "id": "1KHVVugb7yM3"
      },
      "execution_count": null,
      "outputs": []
    },
    {
      "cell_type": "code",
      "source": [
        "patients_col = [\"DOB\",\"SUBJECT_ID\"]\n",
        "patients_extract = patients[patients_columns]\n",
        "notes = pd.merge(notes, patients_extract, on=[\"SUBJECT_ID\"], how=\"inner\")"
      ],
      "metadata": {
        "id": "WDTEGRWn1mm8"
      },
      "execution_count": null,
      "outputs": []
    },
    {
      "cell_type": "code",
      "source": [
        "notes.columns"
      ],
      "metadata": {
        "colab": {
          "base_uri": "https://localhost:8080/"
        },
        "id": "tQ7WPc982OTh",
        "outputId": "cad075d6-a731-4126-825c-fc1080ca7b27"
      },
      "execution_count": null,
      "outputs": [
        {
          "output_type": "execute_result",
          "data": {
            "text/plain": [
              "Index(['Unnamed: 0', 'SUBJECT_ID', 'HADM_ID', 'CHARTDATE', 'TEXT', 'GENDER',\n",
              "       'DOB'],\n",
              "      dtype='object')"
            ]
          },
          "metadata": {},
          "execution_count": 44
        }
      ]
    },
    {
      "cell_type": "code",
      "source": [
        "notes['SUBJECT_AGE'] = notes.apply(lambda r: r.CHARTDATE.year - r.DOB.year, axis=1)"
      ],
      "metadata": {
        "id": "_xvkENiQXOjR"
      },
      "execution_count": null,
      "outputs": []
    },
    {
      "cell_type": "code",
      "source": [
        "notes = notes[notes['SUBJECT_AGE'] <= 100]"
      ],
      "metadata": {
        "id": "-LYM7d6jXdrC"
      },
      "execution_count": null,
      "outputs": []
    },
    {
      "cell_type": "code",
      "source": [
        "columns_to_drop = ['DOB','CHARTDATE']\n",
        "notes.drop(columns=columns_to_drop, inplace=True)"
      ],
      "metadata": {
        "id": "0OIGeF2EbJ88",
        "colab": {
          "base_uri": "https://localhost:8080/"
        },
        "outputId": "eef5a828-93ae-4a25-ef74-d9ff1e95ec4a"
      },
      "execution_count": null,
      "outputs": [
        {
          "output_type": "stream",
          "name": "stderr",
          "text": [
            "<ipython-input-48-8697478f7fd9>:2: SettingWithCopyWarning: \n",
            "A value is trying to be set on a copy of a slice from a DataFrame\n",
            "\n",
            "See the caveats in the documentation: https://pandas.pydata.org/pandas-docs/stable/user_guide/indexing.html#returning-a-view-versus-a-copy\n",
            "  notes.drop(columns=columns_to_drop, inplace=True)\n"
          ]
        }
      ]
    },
    {
      "cell_type": "markdown",
      "source": [
        "###**Preprocessing on Progress notes**\n",
        "\n",
        "> Regex - Pattern Matching\n",
        "\n",
        "> String Manipulation\n",
        "\n",
        "> Conditional Logic for data filtering\n",
        "\n",
        "> Medical Codes to Clinical terms"
      ],
      "metadata": {
        "id": "5l1jxtZx3KRZ"
      }
    },
    {
      "cell_type": "markdown",
      "source": [
        "#### **Hospital-course-content**"
      ],
      "metadata": {
        "id": "ZNJMOt2I_weo"
      }
    },
    {
      "cell_type": "code",
      "source": [
        "pat = [\n",
        "    '(brief hospital course:)',\n",
        "    '(hospital course:)',\n",
        "    '(concise summary of hospital course by issue/system:)',\n",
        "    '(summary of hospital course by systems:)',\n",
        "    '(hospital course by systems including pertinent laboratory\\ndata:)',\n",
        "    '(details of hospital course:)',\n",
        "]\n",
        "contains_brief_hosp_course_sec = notes.TEXT.str.lower().str.contains('|'.join(pat))\n",
        "brief_hos_course_notes = notes[contains_brief_hosp_course_sec]"
      ],
      "metadata": {
        "colab": {
          "base_uri": "https://localhost:8080/"
        },
        "id": "Ndxf2n3obkwz",
        "outputId": "6c2006bf-1d03-4937-e451-86b7e53a5d8e"
      },
      "execution_count": null,
      "outputs": [
        {
          "output_type": "stream",
          "name": "stderr",
          "text": [
            "<ipython-input-49-6e8f07d7239c>:9: UserWarning: This pattern is interpreted as a regular expression, and has match groups. To actually get the groups, use str.extract.\n",
            "  contains_brief_hosp_course_sec = notes.TEXT.str.lower().str.contains('|'.join(pat))\n"
          ]
        }
      ]
    },
    {
      "cell_type": "code",
      "source": [
        "comp_pat = re.compile('|'.join(pat), re.IGNORECASE)"
      ],
      "metadata": {
        "id": "uJDZo2EJbx16"
      },
      "execution_count": null,
      "outputs": []
    },
    {
      "cell_type": "code",
      "source": [
        "matches = notes.TEXT.apply(lambda t: re.search(comp_pat, t))"
      ],
      "metadata": {
        "id": "D_JWu92AcX3J"
      },
      "execution_count": null,
      "outputs": []
    },
    {
      "cell_type": "code",
      "source": [
        "dis_notes = notes.loc[~pd.isna(matches)]"
      ],
      "metadata": {
        "id": "w3DQlzsZcanR"
      },
      "execution_count": null,
      "outputs": []
    },
    {
      "cell_type": "code",
      "source": [
        "matches = matches.loc[~pd.isna(matches)]"
      ],
      "metadata": {
        "id": "s3G46hVOcktp"
      },
      "execution_count": null,
      "outputs": []
    },
    {
      "cell_type": "code",
      "source": [
        "dis_notes['match_start'] = matches"
      ],
      "metadata": {
        "colab": {
          "base_uri": "https://localhost:8080/"
        },
        "id": "DgBzAw_ZcyQJ",
        "outputId": "72e300a7-6723-49c0-b16d-6136e2882bf1"
      },
      "execution_count": null,
      "outputs": [
        {
          "output_type": "stream",
          "name": "stderr",
          "text": [
            "<ipython-input-54-bada1a023e63>:1: SettingWithCopyWarning: \n",
            "A value is trying to be set on a copy of a slice from a DataFrame.\n",
            "Try using .loc[row_indexer,col_indexer] = value instead\n",
            "\n",
            "See the caveats in the documentation: https://pandas.pydata.org/pandas-docs/stable/user_guide/indexing.html#returning-a-view-versus-a-copy\n",
            "  dis_notes['match_start'] = matches\n"
          ]
        }
      ]
    },
    {
      "cell_type": "code",
      "source": [
        "dis_notes['HOS_COURSE'] = dis_notes.apply(lambda r: r.TEXT[r.match_start.start():], axis=1)"
      ],
      "metadata": {
        "colab": {
          "base_uri": "https://localhost:8080/"
        },
        "id": "mkBSMvA0c1ZQ",
        "outputId": "de709256-2aeb-4c5c-f4b1-18a435653e3f"
      },
      "execution_count": null,
      "outputs": [
        {
          "output_type": "stream",
          "name": "stderr",
          "text": [
            "<ipython-input-55-84cec3790197>:1: SettingWithCopyWarning: \n",
            "A value is trying to be set on a copy of a slice from a DataFrame.\n",
            "Try using .loc[row_indexer,col_indexer] = value instead\n",
            "\n",
            "See the caveats in the documentation: https://pandas.pydata.org/pandas-docs/stable/user_guide/indexing.html#returning-a-view-versus-a-copy\n",
            "  dis_notes['HOS_COURSE'] = dis_notes.apply(lambda r: r.TEXT[r.match_start.start():], axis=1)\n"
          ]
        }
      ]
    },
    {
      "cell_type": "code",
      "source": [
        "samples = dis_notes.sample(100)\n",
        "output_file = 'dis_notes_sample.csv'\n",
        "samples.to_csv(output_file, index=False)"
      ],
      "metadata": {
        "id": "LdiMTI4rc4m5"
      },
      "execution_count": null,
      "outputs": []
    },
    {
      "cell_type": "code",
      "source": [
        "dis_notes['next_sec_matches'] = [re.search('(\\n\\n(?!#|\\*|\\d|\\s|\\[|\\().*:)', s, re.IGNORECASE) for s in dis_notes.HOS_COURSE]"
      ],
      "metadata": {
        "colab": {
          "base_uri": "https://localhost:8080/"
        },
        "id": "ZZheR7SnkyYt",
        "outputId": "094b1942-c239-49f0-b9f7-0857f0d3852d"
      },
      "execution_count": null,
      "outputs": [
        {
          "output_type": "stream",
          "name": "stderr",
          "text": [
            "<ipython-input-57-f777e8a4570a>:1: SettingWithCopyWarning: \n",
            "A value is trying to be set on a copy of a slice from a DataFrame.\n",
            "Try using .loc[row_indexer,col_indexer] = value instead\n",
            "\n",
            "See the caveats in the documentation: https://pandas.pydata.org/pandas-docs/stable/user_guide/indexing.html#returning-a-view-versus-a-copy\n",
            "  dis_notes['next_sec_matches'] = [re.search('(\\n\\n(?!#|\\*|\\d|\\s|\\[|\\().*:)', s, re.IGNORECASE) for s in dis_notes.HOS_COURSE]\n"
          ]
        }
      ]
    },
    {
      "cell_type": "markdown",
      "source": [
        "####**Sub-section Extraction**"
      ],
      "metadata": {
        "id": "KLI_V8pQAe63"
      }
    },
    {
      "cell_type": "code",
      "source": [
        "def extract_subsections(text):\n",
        "  regex_pattern = r'^([A-Z][A-Z ]+):'\n",
        "  subtopic_matches = re.findall(regex_pattern, text, re.MULTILINE)\n",
        "  subtopics = [match.strip() for match in subtopic_matches]\n",
        "  return subtopics"
      ],
      "metadata": {
        "id": "S4gxG79hkyvN"
      },
      "execution_count": null,
      "outputs": []
    },
    {
      "cell_type": "code",
      "source": [
        "dis_notes['HOS_COURSE_SUBSECTIONS'] = notes['TEXT'].apply(lambda x: extract_subsections(x))"
      ],
      "metadata": {
        "colab": {
          "base_uri": "https://localhost:8080/"
        },
        "id": "n3ZiI_dpkyot",
        "outputId": "1ba212d8-f2ad-4122-e145-bc99cf368a5e"
      },
      "execution_count": null,
      "outputs": [
        {
          "output_type": "stream",
          "name": "stderr",
          "text": [
            "<ipython-input-59-4337812ae67f>:1: SettingWithCopyWarning: \n",
            "A value is trying to be set on a copy of a slice from a DataFrame.\n",
            "Try using .loc[row_indexer,col_indexer] = value instead\n",
            "\n",
            "See the caveats in the documentation: https://pandas.pydata.org/pandas-docs/stable/user_guide/indexing.html#returning-a-view-versus-a-copy\n",
            "  dis_notes['HOS_COURSE_SUBSECTIONS'] = notes['TEXT'].apply(lambda x: extract_subsections(x))\n"
          ]
        }
      ]
    },
    {
      "cell_type": "code",
      "source": [
        "dis_notes"
      ],
      "metadata": {
        "colab": {
          "base_uri": "https://localhost:8080/",
          "height": 1000
        },
        "id": "cBNWOvMvnrLX",
        "outputId": "8d42b63a-1a41-49e5-a137-a3eec8f14ee5"
      },
      "execution_count": null,
      "outputs": [
        {
          "output_type": "execute_result",
          "data": {
            "text/plain": [
              "     Unnamed: 0  SUBJECT_ID   HADM_ID  \\\n",
              "1           245       22532  167853.0   \n",
              "2             1       13702  107527.0   \n",
              "3             2       13702  167118.0   \n",
              "4             3       13702  196489.0   \n",
              "5             4       26880  135453.0   \n",
              "..          ...         ...       ...   \n",
              "993         993       12411  173718.0   \n",
              "994         994       12411  163752.0   \n",
              "995         995       15198  137838.0   \n",
              "998         998       18511  123903.0   \n",
              "999         999       76558  186116.0   \n",
              "\n",
              "                                                  TEXT GENDER  SUBJECT_AGE  \\\n",
              "1    Admission Date:  [**2151-7-16**]       Dischar...      F           87   \n",
              "2    Admission Date:  [**2118-6-2**]       Discharg...      F           81   \n",
              "3    Admission Date:  [**2119-5-4**]              D...      F           82   \n",
              "4    Admission Date:  [**2124-7-21**]              ...      F           87   \n",
              "5    Admission Date:  [**2162-3-3**]              D...      M           82   \n",
              "..                                                 ...    ...          ...   \n",
              "993  Admission Date:  [**2183-3-12**]     Discharge...      F           42   \n",
              "994  Admission Date:  [**2184-7-5**]     Discharge ...      F           43   \n",
              "995  Admission Date:  [**2184-10-14**]       Discha...      F           76   \n",
              "998  Admission Date:  [**2191-2-23**]              ...      M           67   \n",
              "999  Admission Date:  [**2157-12-1**]              ...      M           58   \n",
              "\n",
              "                                           match_start  \\\n",
              "1    <re.Match object; span=(4964, 4980), match='HO...   \n",
              "2    <re.Match object; span=(5537, 5553), match='HO...   \n",
              "3    <re.Match object; span=(3609, 3631), match='Br...   \n",
              "4    <re.Match object; span=(6373, 6395), match='Br...   \n",
              "5    <re.Match object; span=(10762, 10784), match='...   \n",
              "..                                                 ...   \n",
              "993  <re.Match object; span=(4379, 4395), match='HO...   \n",
              "994  <re.Match object; span=(3372, 3388), match='HO...   \n",
              "995  <re.Match object; span=(2671, 2687), match='HO...   \n",
              "998  <re.Match object; span=(3180, 3202), match='Br...   \n",
              "999  <re.Match object; span=(7127, 7149), match='Br...   \n",
              "\n",
              "                                            HOS_COURSE  \\\n",
              "1    HOSPITAL COURSE:  Infectious disease - As note...   \n",
              "2    HOSPITAL COURSE:\\n1. COPD/dyspnea/pneumonia:  ...   \n",
              "3    Brief Hospital Course:\\n82 y/o female admitted...   \n",
              "4    Brief Hospital Course:\\n87 yo F with h/o CHF, ...   \n",
              "5    Brief Hospital Course:\\nMr. [**Known lastname ...   \n",
              "..                                                 ...   \n",
              "993  HOSPITAL COURSE:  While in the Emergency Depar...   \n",
              "994  HOSPITAL COURSE:  The patient was admitted to ...   \n",
              "995  HOSPITAL COURSE:  On the day of admission pati...   \n",
              "998  Brief Hospital Course:\\nPresented to emergency...   \n",
              "999  Brief Hospital Course:\\n58 year old male with ...   \n",
              "\n",
              "                                      next_sec_matches  \\\n",
              "1    <re.Match object; span=(8748, 8773), match='\\n...   \n",
              "2    <re.Match object; span=(4827, 4849), match='\\n...   \n",
              "3    <re.Match object; span=(3709, 3736), match='\\n...   \n",
              "4    <re.Match object; span=(5073, 5100), match='\\n...   \n",
              "5    <re.Match object; span=(349, 368), match='\\n\\n...   \n",
              "..                                                 ...   \n",
              "993  <re.Match object; span=(2284, 2342), match='\\n...   \n",
              "994  <re.Match object; span=(2546, 2573), match='\\n...   \n",
              "995  <re.Match object; span=(3071, 3095), match='\\n...   \n",
              "998  <re.Match object; span=(1019, 1046), match='\\n...   \n",
              "999  <re.Match object; span=(2616, 2643), match='\\n...   \n",
              "\n",
              "                                HOS_COURSE_SUBSECTIONS  \n",
              "1    [HISTORY OF PRESENT ILLNESS, PAST MEDICAL HIST...  \n",
              "2    [HISTORY OF PRESENT ILLNESS, PAST MEDICAL HIST...  \n",
              "3                                                [PMH]  \n",
              "4       [HEENT, CV, GU, IMPRESSION, LABS AT DISCHARGE]  \n",
              "5    [VS, CV, IMPRESSION, IMPRESSION, CT ABDOMEN WI...  \n",
              "..                                                 ...  \n",
              "993  [CHIEF COMPLAINT, HISTORY OF PRESENT ILLNESS, ...  \n",
              "994  [HISTORY OF PRESENT ILLNESS, PAST MEDICAL HIST...  \n",
              "995  [CHIEF COMPLAINT, HISTORY OF PRESENT ILLNESS, ...  \n",
              "998                                              [PMH]  \n",
              "999  [PAST MEDICAL HISTORY, VS, GENERAL, HEENT, NEC...  \n",
              "\n",
              "[847 rows x 10 columns]"
            ],
            "text/html": [
              "\n",
              "\n",
              "  <div id=\"df-66faf352-6527-47dd-8a82-6ccf6880ebb0\">\n",
              "    <div class=\"colab-df-container\">\n",
              "      <div>\n",
              "<style scoped>\n",
              "    .dataframe tbody tr th:only-of-type {\n",
              "        vertical-align: middle;\n",
              "    }\n",
              "\n",
              "    .dataframe tbody tr th {\n",
              "        vertical-align: top;\n",
              "    }\n",
              "\n",
              "    .dataframe thead th {\n",
              "        text-align: right;\n",
              "    }\n",
              "</style>\n",
              "<table border=\"1\" class=\"dataframe\">\n",
              "  <thead>\n",
              "    <tr style=\"text-align: right;\">\n",
              "      <th></th>\n",
              "      <th>Unnamed: 0</th>\n",
              "      <th>SUBJECT_ID</th>\n",
              "      <th>HADM_ID</th>\n",
              "      <th>TEXT</th>\n",
              "      <th>GENDER</th>\n",
              "      <th>SUBJECT_AGE</th>\n",
              "      <th>match_start</th>\n",
              "      <th>HOS_COURSE</th>\n",
              "      <th>next_sec_matches</th>\n",
              "      <th>HOS_COURSE_SUBSECTIONS</th>\n",
              "    </tr>\n",
              "  </thead>\n",
              "  <tbody>\n",
              "    <tr>\n",
              "      <th>1</th>\n",
              "      <td>245</td>\n",
              "      <td>22532</td>\n",
              "      <td>167853.0</td>\n",
              "      <td>Admission Date:  [**2151-7-16**]       Dischar...</td>\n",
              "      <td>F</td>\n",
              "      <td>87</td>\n",
              "      <td>&lt;re.Match object; span=(4964, 4980), match='HO...</td>\n",
              "      <td>HOSPITAL COURSE:  Infectious disease - As note...</td>\n",
              "      <td>&lt;re.Match object; span=(8748, 8773), match='\\n...</td>\n",
              "      <td>[HISTORY OF PRESENT ILLNESS, PAST MEDICAL HIST...</td>\n",
              "    </tr>\n",
              "    <tr>\n",
              "      <th>2</th>\n",
              "      <td>1</td>\n",
              "      <td>13702</td>\n",
              "      <td>107527.0</td>\n",
              "      <td>Admission Date:  [**2118-6-2**]       Discharg...</td>\n",
              "      <td>F</td>\n",
              "      <td>81</td>\n",
              "      <td>&lt;re.Match object; span=(5537, 5553), match='HO...</td>\n",
              "      <td>HOSPITAL COURSE:\\n1. COPD/dyspnea/pneumonia:  ...</td>\n",
              "      <td>&lt;re.Match object; span=(4827, 4849), match='\\n...</td>\n",
              "      <td>[HISTORY OF PRESENT ILLNESS, PAST MEDICAL HIST...</td>\n",
              "    </tr>\n",
              "    <tr>\n",
              "      <th>3</th>\n",
              "      <td>2</td>\n",
              "      <td>13702</td>\n",
              "      <td>167118.0</td>\n",
              "      <td>Admission Date:  [**2119-5-4**]              D...</td>\n",
              "      <td>F</td>\n",
              "      <td>82</td>\n",
              "      <td>&lt;re.Match object; span=(3609, 3631), match='Br...</td>\n",
              "      <td>Brief Hospital Course:\\n82 y/o female admitted...</td>\n",
              "      <td>&lt;re.Match object; span=(3709, 3736), match='\\n...</td>\n",
              "      <td>[PMH]</td>\n",
              "    </tr>\n",
              "    <tr>\n",
              "      <th>4</th>\n",
              "      <td>3</td>\n",
              "      <td>13702</td>\n",
              "      <td>196489.0</td>\n",
              "      <td>Admission Date:  [**2124-7-21**]              ...</td>\n",
              "      <td>F</td>\n",
              "      <td>87</td>\n",
              "      <td>&lt;re.Match object; span=(6373, 6395), match='Br...</td>\n",
              "      <td>Brief Hospital Course:\\n87 yo F with h/o CHF, ...</td>\n",
              "      <td>&lt;re.Match object; span=(5073, 5100), match='\\n...</td>\n",
              "      <td>[HEENT, CV, GU, IMPRESSION, LABS AT DISCHARGE]</td>\n",
              "    </tr>\n",
              "    <tr>\n",
              "      <th>5</th>\n",
              "      <td>4</td>\n",
              "      <td>26880</td>\n",
              "      <td>135453.0</td>\n",
              "      <td>Admission Date:  [**2162-3-3**]              D...</td>\n",
              "      <td>M</td>\n",
              "      <td>82</td>\n",
              "      <td>&lt;re.Match object; span=(10762, 10784), match='...</td>\n",
              "      <td>Brief Hospital Course:\\nMr. [**Known lastname ...</td>\n",
              "      <td>&lt;re.Match object; span=(349, 368), match='\\n\\n...</td>\n",
              "      <td>[VS, CV, IMPRESSION, IMPRESSION, CT ABDOMEN WI...</td>\n",
              "    </tr>\n",
              "    <tr>\n",
              "      <th>...</th>\n",
              "      <td>...</td>\n",
              "      <td>...</td>\n",
              "      <td>...</td>\n",
              "      <td>...</td>\n",
              "      <td>...</td>\n",
              "      <td>...</td>\n",
              "      <td>...</td>\n",
              "      <td>...</td>\n",
              "      <td>...</td>\n",
              "      <td>...</td>\n",
              "    </tr>\n",
              "    <tr>\n",
              "      <th>993</th>\n",
              "      <td>993</td>\n",
              "      <td>12411</td>\n",
              "      <td>173718.0</td>\n",
              "      <td>Admission Date:  [**2183-3-12**]     Discharge...</td>\n",
              "      <td>F</td>\n",
              "      <td>42</td>\n",
              "      <td>&lt;re.Match object; span=(4379, 4395), match='HO...</td>\n",
              "      <td>HOSPITAL COURSE:  While in the Emergency Depar...</td>\n",
              "      <td>&lt;re.Match object; span=(2284, 2342), match='\\n...</td>\n",
              "      <td>[CHIEF COMPLAINT, HISTORY OF PRESENT ILLNESS, ...</td>\n",
              "    </tr>\n",
              "    <tr>\n",
              "      <th>994</th>\n",
              "      <td>994</td>\n",
              "      <td>12411</td>\n",
              "      <td>163752.0</td>\n",
              "      <td>Admission Date:  [**2184-7-5**]     Discharge ...</td>\n",
              "      <td>F</td>\n",
              "      <td>43</td>\n",
              "      <td>&lt;re.Match object; span=(3372, 3388), match='HO...</td>\n",
              "      <td>HOSPITAL COURSE:  The patient was admitted to ...</td>\n",
              "      <td>&lt;re.Match object; span=(2546, 2573), match='\\n...</td>\n",
              "      <td>[HISTORY OF PRESENT ILLNESS, PAST MEDICAL HIST...</td>\n",
              "    </tr>\n",
              "    <tr>\n",
              "      <th>995</th>\n",
              "      <td>995</td>\n",
              "      <td>15198</td>\n",
              "      <td>137838.0</td>\n",
              "      <td>Admission Date:  [**2184-10-14**]       Discha...</td>\n",
              "      <td>F</td>\n",
              "      <td>76</td>\n",
              "      <td>&lt;re.Match object; span=(2671, 2687), match='HO...</td>\n",
              "      <td>HOSPITAL COURSE:  On the day of admission pati...</td>\n",
              "      <td>&lt;re.Match object; span=(3071, 3095), match='\\n...</td>\n",
              "      <td>[CHIEF COMPLAINT, HISTORY OF PRESENT ILLNESS, ...</td>\n",
              "    </tr>\n",
              "    <tr>\n",
              "      <th>998</th>\n",
              "      <td>998</td>\n",
              "      <td>18511</td>\n",
              "      <td>123903.0</td>\n",
              "      <td>Admission Date:  [**2191-2-23**]              ...</td>\n",
              "      <td>M</td>\n",
              "      <td>67</td>\n",
              "      <td>&lt;re.Match object; span=(3180, 3202), match='Br...</td>\n",
              "      <td>Brief Hospital Course:\\nPresented to emergency...</td>\n",
              "      <td>&lt;re.Match object; span=(1019, 1046), match='\\n...</td>\n",
              "      <td>[PMH]</td>\n",
              "    </tr>\n",
              "    <tr>\n",
              "      <th>999</th>\n",
              "      <td>999</td>\n",
              "      <td>76558</td>\n",
              "      <td>186116.0</td>\n",
              "      <td>Admission Date:  [**2157-12-1**]              ...</td>\n",
              "      <td>M</td>\n",
              "      <td>58</td>\n",
              "      <td>&lt;re.Match object; span=(7127, 7149), match='Br...</td>\n",
              "      <td>Brief Hospital Course:\\n58 year old male with ...</td>\n",
              "      <td>&lt;re.Match object; span=(2616, 2643), match='\\n...</td>\n",
              "      <td>[PAST MEDICAL HISTORY, VS, GENERAL, HEENT, NEC...</td>\n",
              "    </tr>\n",
              "  </tbody>\n",
              "</table>\n",
              "<p>847 rows × 10 columns</p>\n",
              "</div>\n",
              "      <button class=\"colab-df-convert\" onclick=\"convertToInteractive('df-66faf352-6527-47dd-8a82-6ccf6880ebb0')\"\n",
              "              title=\"Convert this dataframe to an interactive table.\"\n",
              "              style=\"display:none;\">\n",
              "\n",
              "  <svg xmlns=\"http://www.w3.org/2000/svg\" height=\"24px\"viewBox=\"0 0 24 24\"\n",
              "       width=\"24px\">\n",
              "    <path d=\"M0 0h24v24H0V0z\" fill=\"none\"/>\n",
              "    <path d=\"M18.56 5.44l.94 2.06.94-2.06 2.06-.94-2.06-.94-.94-2.06-.94 2.06-2.06.94zm-11 1L8.5 8.5l.94-2.06 2.06-.94-2.06-.94L8.5 2.5l-.94 2.06-2.06.94zm10 10l.94 2.06.94-2.06 2.06-.94-2.06-.94-.94-2.06-.94 2.06-2.06.94z\"/><path d=\"M17.41 7.96l-1.37-1.37c-.4-.4-.92-.59-1.43-.59-.52 0-1.04.2-1.43.59L10.3 9.45l-7.72 7.72c-.78.78-.78 2.05 0 2.83L4 21.41c.39.39.9.59 1.41.59.51 0 1.02-.2 1.41-.59l7.78-7.78 2.81-2.81c.8-.78.8-2.07 0-2.86zM5.41 20L4 18.59l7.72-7.72 1.47 1.35L5.41 20z\"/>\n",
              "  </svg>\n",
              "      </button>\n",
              "\n",
              "\n",
              "\n",
              "    <div id=\"df-cb931d1e-b278-4cba-8ae5-e4a6a5a0533c\">\n",
              "      <button class=\"colab-df-quickchart\" onclick=\"quickchart('df-cb931d1e-b278-4cba-8ae5-e4a6a5a0533c')\"\n",
              "              title=\"Suggest charts.\"\n",
              "              style=\"display:none;\">\n",
              "\n",
              "<svg xmlns=\"http://www.w3.org/2000/svg\" height=\"24px\"viewBox=\"0 0 24 24\"\n",
              "     width=\"24px\">\n",
              "    <g>\n",
              "        <path d=\"M19 3H5c-1.1 0-2 .9-2 2v14c0 1.1.9 2 2 2h14c1.1 0 2-.9 2-2V5c0-1.1-.9-2-2-2zM9 17H7v-7h2v7zm4 0h-2V7h2v10zm4 0h-2v-4h2v4z\"/>\n",
              "    </g>\n",
              "</svg>\n",
              "      </button>\n",
              "    </div>\n",
              "\n",
              "<style>\n",
              "  .colab-df-quickchart {\n",
              "    background-color: #E8F0FE;\n",
              "    border: none;\n",
              "    border-radius: 50%;\n",
              "    cursor: pointer;\n",
              "    display: none;\n",
              "    fill: #1967D2;\n",
              "    height: 32px;\n",
              "    padding: 0 0 0 0;\n",
              "    width: 32px;\n",
              "  }\n",
              "\n",
              "  .colab-df-quickchart:hover {\n",
              "    background-color: #E2EBFA;\n",
              "    box-shadow: 0px 1px 2px rgba(60, 64, 67, 0.3), 0px 1px 3px 1px rgba(60, 64, 67, 0.15);\n",
              "    fill: #174EA6;\n",
              "  }\n",
              "\n",
              "  [theme=dark] .colab-df-quickchart {\n",
              "    background-color: #3B4455;\n",
              "    fill: #D2E3FC;\n",
              "  }\n",
              "\n",
              "  [theme=dark] .colab-df-quickchart:hover {\n",
              "    background-color: #434B5C;\n",
              "    box-shadow: 0px 1px 3px 1px rgba(0, 0, 0, 0.15);\n",
              "    filter: drop-shadow(0px 1px 2px rgba(0, 0, 0, 0.3));\n",
              "    fill: #FFFFFF;\n",
              "  }\n",
              "</style>\n",
              "\n",
              "    <script>\n",
              "      async function quickchart(key) {\n",
              "        const containerElement = document.querySelector('#' + key);\n",
              "        const charts = await google.colab.kernel.invokeFunction(\n",
              "            'suggestCharts', [key], {});\n",
              "      }\n",
              "    </script>\n",
              "\n",
              "      <script>\n",
              "\n",
              "function displayQuickchartButton(domScope) {\n",
              "  let quickchartButtonEl =\n",
              "    domScope.querySelector('#df-cb931d1e-b278-4cba-8ae5-e4a6a5a0533c button.colab-df-quickchart');\n",
              "  quickchartButtonEl.style.display =\n",
              "    google.colab.kernel.accessAllowed ? 'block' : 'none';\n",
              "}\n",
              "\n",
              "        displayQuickchartButton(document);\n",
              "      </script>\n",
              "      <style>\n",
              "    .colab-df-container {\n",
              "      display:flex;\n",
              "      flex-wrap:wrap;\n",
              "      gap: 12px;\n",
              "    }\n",
              "\n",
              "    .colab-df-convert {\n",
              "      background-color: #E8F0FE;\n",
              "      border: none;\n",
              "      border-radius: 50%;\n",
              "      cursor: pointer;\n",
              "      display: none;\n",
              "      fill: #1967D2;\n",
              "      height: 32px;\n",
              "      padding: 0 0 0 0;\n",
              "      width: 32px;\n",
              "    }\n",
              "\n",
              "    .colab-df-convert:hover {\n",
              "      background-color: #E2EBFA;\n",
              "      box-shadow: 0px 1px 2px rgba(60, 64, 67, 0.3), 0px 1px 3px 1px rgba(60, 64, 67, 0.15);\n",
              "      fill: #174EA6;\n",
              "    }\n",
              "\n",
              "    [theme=dark] .colab-df-convert {\n",
              "      background-color: #3B4455;\n",
              "      fill: #D2E3FC;\n",
              "    }\n",
              "\n",
              "    [theme=dark] .colab-df-convert:hover {\n",
              "      background-color: #434B5C;\n",
              "      box-shadow: 0px 1px 3px 1px rgba(0, 0, 0, 0.15);\n",
              "      filter: drop-shadow(0px 1px 2px rgba(0, 0, 0, 0.3));\n",
              "      fill: #FFFFFF;\n",
              "    }\n",
              "  </style>\n",
              "\n",
              "      <script>\n",
              "        const buttonEl =\n",
              "          document.querySelector('#df-66faf352-6527-47dd-8a82-6ccf6880ebb0 button.colab-df-convert');\n",
              "        buttonEl.style.display =\n",
              "          google.colab.kernel.accessAllowed ? 'block' : 'none';\n",
              "\n",
              "        async function convertToInteractive(key) {\n",
              "          const element = document.querySelector('#df-66faf352-6527-47dd-8a82-6ccf6880ebb0');\n",
              "          const dataTable =\n",
              "            await google.colab.kernel.invokeFunction('convertToInteractive',\n",
              "                                                     [key], {});\n",
              "          if (!dataTable) return;\n",
              "\n",
              "          const docLinkHtml = 'Like what you see? Visit the ' +\n",
              "            '<a target=\"_blank\" href=https://colab.research.google.com/notebooks/data_table.ipynb>data table notebook</a>'\n",
              "            + ' to learn more about interactive tables.';\n",
              "          element.innerHTML = '';\n",
              "          dataTable['output_type'] = 'display_data';\n",
              "          await google.colab.output.renderOutput(dataTable, element);\n",
              "          const docLink = document.createElement('div');\n",
              "          docLink.innerHTML = docLinkHtml;\n",
              "          element.appendChild(docLink);\n",
              "        }\n",
              "      </script>\n",
              "    </div>\n",
              "  </div>\n"
            ]
          },
          "metadata": {},
          "execution_count": 60
        }
      ]
    },
    {
      "cell_type": "code",
      "source": [
        "dis_notes = dis_notes[dis_notes['HOS_COURSE_SUBSECTIONS'].apply(len) > 0]"
      ],
      "metadata": {
        "id": "Wx5YMZi1n-Fe"
      },
      "execution_count": null,
      "outputs": []
    },
    {
      "cell_type": "code",
      "source": [
        "dis_notes.columns"
      ],
      "metadata": {
        "colab": {
          "base_uri": "https://localhost:8080/"
        },
        "id": "0vVoOEqM8Qgl",
        "outputId": "77bfc9f9-b922-45ed-9bde-11f38b21211d"
      },
      "execution_count": null,
      "outputs": [
        {
          "output_type": "execute_result",
          "data": {
            "text/plain": [
              "Index(['Unnamed: 0', 'SUBJECT_ID', 'HADM_ID', 'TEXT', 'GENDER', 'SUBJECT_AGE',\n",
              "       'match_start', 'HOS_COURSE', 'next_sec_matches',\n",
              "       'HOS_COURSE_SUBSECTIONS'],\n",
              "      dtype='object')"
            ]
          },
          "metadata": {},
          "execution_count": 62
        }
      ]
    },
    {
      "cell_type": "code",
      "source": [
        "columns_to_drop = ['Unnamed: 0',\n",
        "       'match_start', ]\n",
        "dis_notes.drop(columns=columns_to_drop, inplace=True)"
      ],
      "metadata": {
        "colab": {
          "base_uri": "https://localhost:8080/"
        },
        "id": "9Sqst5RK8M5O",
        "outputId": "8d985b1d-68ab-45fa-b6c7-7834bffdf3c1"
      },
      "execution_count": null,
      "outputs": [
        {
          "output_type": "stream",
          "name": "stderr",
          "text": [
            "<ipython-input-63-e1ffb1059864>:3: SettingWithCopyWarning: \n",
            "A value is trying to be set on a copy of a slice from a DataFrame\n",
            "\n",
            "See the caveats in the documentation: https://pandas.pydata.org/pandas-docs/stable/user_guide/indexing.html#returning-a-view-versus-a-copy\n",
            "  dis_notes.drop(columns=columns_to_drop, inplace=True)\n"
          ]
        }
      ]
    },
    {
      "cell_type": "markdown",
      "source": [
        "####**Visualize and Duplicates Removal**"
      ],
      "metadata": {
        "id": "THh1XODqB230"
      }
    },
    {
      "cell_type": "code",
      "source": [
        "samples = dis_notes.sample(100)"
      ],
      "metadata": {
        "id": "bVD1GoVnpCw8"
      },
      "execution_count": null,
      "outputs": []
    },
    {
      "cell_type": "code",
      "source": [
        "full_sec = samples.iloc[:100].HOS_COURSE\n",
        "sec = samples.iloc[:100].HOS_COURSE_SUBSECTIONS\n",
        "HTML(value=f'<div style=\"width=100%\">' +\\\n",
        "     f'<div style=\"display:inline-block;width:50%; white-space: pre-wrap; line-height: 1.2\">{full_sec}</div>' +\\\n",
        "     f'<div style=\"display:inline-block;width:50%; white-space: pre-wrap; line-height: 1.2\">{sec}</div>' +\\\n",
        "     '</div>')"
      ],
      "metadata": {
        "colab": {
          "base_uri": "https://localhost:8080/",
          "height": 354,
          "referenced_widgets": [
            "33a254fb969d47a5a0dcd077f384a971",
            "d444ad6a1d33454184b1cf9363782069",
            "48aa7f0c3b86442aad75e874ef6abea7"
          ]
        },
        "id": "v0QhNv1KobHe",
        "outputId": "56bb70a9-ecfb-4bb6-8461-62ed97d04865"
      },
      "execution_count": null,
      "outputs": [
        {
          "output_type": "display_data",
          "data": {
            "text/plain": [
              "HTML(value='<div style=\"width=100%\"><div style=\"display:inline-block;width:50%; white-space: pre-wrap; line-he…"
            ],
            "application/vnd.jupyter.widget-view+json": {
              "version_major": 2,
              "version_minor": 0,
              "model_id": "33a254fb969d47a5a0dcd077f384a971"
            }
          },
          "metadata": {}
        }
      ]
    },
    {
      "cell_type": "code",
      "source": [
        "dis_notes = dis_notes[~dis_notes.duplicated('HOS_COURSE_SUBSECTIONS', keep=False)]"
      ],
      "metadata": {
        "id": "R59gUVUCo62F"
      },
      "execution_count": null,
      "outputs": []
    },
    {
      "cell_type": "code",
      "source": [
        "dis_notes.reset_index(drop=True).to_csv('dis_notes_hosp_course_extracted.csv')"
      ],
      "metadata": {
        "id": "g-eYAubSpmXz"
      },
      "execution_count": null,
      "outputs": []
    },
    {
      "cell_type": "code",
      "source": [
        "dis_notes"
      ],
      "metadata": {
        "colab": {
          "base_uri": "https://localhost:8080/",
          "height": 1000
        },
        "id": "D6JcKFf8qEn6",
        "outputId": "ebd3e205-77e2-468b-9a2f-1510fed44281"
      },
      "execution_count": null,
      "outputs": [
        {
          "output_type": "execute_result",
          "data": {
            "text/plain": [
              "     SUBJECT_ID   HADM_ID                                               TEXT  \\\n",
              "1         22532  167853.0  Admission Date:  [**2151-7-16**]       Dischar...   \n",
              "2         13702  107527.0  Admission Date:  [**2118-6-2**]       Discharg...   \n",
              "4         13702  196489.0  Admission Date:  [**2124-7-21**]              ...   \n",
              "5         26880  135453.0  Admission Date:  [**2162-3-3**]              D...   \n",
              "9         56174  163469.0  Admission Date:  [**2118-8-10**]              ...   \n",
              "..          ...       ...                                                ...   \n",
              "990       10830  120142.0  Admission Date:  [**2116-7-6**]              D...   \n",
              "993       12411  173718.0  Admission Date:  [**2183-3-12**]     Discharge...   \n",
              "994       12411  163752.0  Admission Date:  [**2184-7-5**]     Discharge ...   \n",
              "995       15198  137838.0  Admission Date:  [**2184-10-14**]       Discha...   \n",
              "999       76558  186116.0  Admission Date:  [**2157-12-1**]              ...   \n",
              "\n",
              "    GENDER  SUBJECT_AGE                                         HOS_COURSE  \\\n",
              "1        F           87  HOSPITAL COURSE:  Infectious disease - As note...   \n",
              "2        F           81  HOSPITAL COURSE:\\n1. COPD/dyspnea/pneumonia:  ...   \n",
              "4        F           87  Brief Hospital Course:\\n87 yo F with h/o CHF, ...   \n",
              "5        M           82  Brief Hospital Course:\\nMr. [**Known lastname ...   \n",
              "9        F           45  Brief Hospital Course:\\nPost-operatively she w...   \n",
              "..     ...          ...                                                ...   \n",
              "990      F           86  Brief Hospital Course:\\n85 y/o F with MDS/RAEB...   \n",
              "993      F           42  HOSPITAL COURSE:  While in the Emergency Depar...   \n",
              "994      F           43  HOSPITAL COURSE:  The patient was admitted to ...   \n",
              "995      F           76  HOSPITAL COURSE:  On the day of admission pati...   \n",
              "999      M           58  Brief Hospital Course:\\n58 year old male with ...   \n",
              "\n",
              "                                      next_sec_matches  \\\n",
              "1    <re.Match object; span=(8748, 8773), match='\\n...   \n",
              "2    <re.Match object; span=(4827, 4849), match='\\n...   \n",
              "4    <re.Match object; span=(5073, 5100), match='\\n...   \n",
              "5    <re.Match object; span=(349, 368), match='\\n\\n...   \n",
              "9    <re.Match object; span=(575, 602), match='\\n\\n...   \n",
              "..                                                 ...   \n",
              "990  <re.Match object; span=(3230, 3257), match='\\n...   \n",
              "993  <re.Match object; span=(2284, 2342), match='\\n...   \n",
              "994  <re.Match object; span=(2546, 2573), match='\\n...   \n",
              "995  <re.Match object; span=(3071, 3095), match='\\n...   \n",
              "999  <re.Match object; span=(2616, 2643), match='\\n...   \n",
              "\n",
              "                                HOS_COURSE_SUBSECTIONS  \n",
              "1    [HISTORY OF PRESENT ILLNESS, PAST MEDICAL HIST...  \n",
              "2    [HISTORY OF PRESENT ILLNESS, PAST MEDICAL HIST...  \n",
              "4       [HEENT, CV, GU, IMPRESSION, LABS AT DISCHARGE]  \n",
              "5    [VS, CV, IMPRESSION, IMPRESSION, CT ABDOMEN WI...  \n",
              "9         [DIAGNOSIS, FINDINGS, IMPRESSION, FOLLOWING]  \n",
              "..                                                 ...  \n",
              "990             [ROS, HEENT, CV, LUNGS, ABD, EXT, ECG]  \n",
              "993  [CHIEF COMPLAINT, HISTORY OF PRESENT ILLNESS, ...  \n",
              "994  [HISTORY OF PRESENT ILLNESS, PAST MEDICAL HIST...  \n",
              "995  [CHIEF COMPLAINT, HISTORY OF PRESENT ILLNESS, ...  \n",
              "999  [PAST MEDICAL HISTORY, VS, GENERAL, HEENT, NEC...  \n",
              "\n",
              "[685 rows x 8 columns]"
            ],
            "text/html": [
              "\n",
              "\n",
              "  <div id=\"df-0e56756a-41a1-48de-a007-41f796950ca2\">\n",
              "    <div class=\"colab-df-container\">\n",
              "      <div>\n",
              "<style scoped>\n",
              "    .dataframe tbody tr th:only-of-type {\n",
              "        vertical-align: middle;\n",
              "    }\n",
              "\n",
              "    .dataframe tbody tr th {\n",
              "        vertical-align: top;\n",
              "    }\n",
              "\n",
              "    .dataframe thead th {\n",
              "        text-align: right;\n",
              "    }\n",
              "</style>\n",
              "<table border=\"1\" class=\"dataframe\">\n",
              "  <thead>\n",
              "    <tr style=\"text-align: right;\">\n",
              "      <th></th>\n",
              "      <th>SUBJECT_ID</th>\n",
              "      <th>HADM_ID</th>\n",
              "      <th>TEXT</th>\n",
              "      <th>GENDER</th>\n",
              "      <th>SUBJECT_AGE</th>\n",
              "      <th>HOS_COURSE</th>\n",
              "      <th>next_sec_matches</th>\n",
              "      <th>HOS_COURSE_SUBSECTIONS</th>\n",
              "    </tr>\n",
              "  </thead>\n",
              "  <tbody>\n",
              "    <tr>\n",
              "      <th>1</th>\n",
              "      <td>22532</td>\n",
              "      <td>167853.0</td>\n",
              "      <td>Admission Date:  [**2151-7-16**]       Dischar...</td>\n",
              "      <td>F</td>\n",
              "      <td>87</td>\n",
              "      <td>HOSPITAL COURSE:  Infectious disease - As note...</td>\n",
              "      <td>&lt;re.Match object; span=(8748, 8773), match='\\n...</td>\n",
              "      <td>[HISTORY OF PRESENT ILLNESS, PAST MEDICAL HIST...</td>\n",
              "    </tr>\n",
              "    <tr>\n",
              "      <th>2</th>\n",
              "      <td>13702</td>\n",
              "      <td>107527.0</td>\n",
              "      <td>Admission Date:  [**2118-6-2**]       Discharg...</td>\n",
              "      <td>F</td>\n",
              "      <td>81</td>\n",
              "      <td>HOSPITAL COURSE:\\n1. COPD/dyspnea/pneumonia:  ...</td>\n",
              "      <td>&lt;re.Match object; span=(4827, 4849), match='\\n...</td>\n",
              "      <td>[HISTORY OF PRESENT ILLNESS, PAST MEDICAL HIST...</td>\n",
              "    </tr>\n",
              "    <tr>\n",
              "      <th>4</th>\n",
              "      <td>13702</td>\n",
              "      <td>196489.0</td>\n",
              "      <td>Admission Date:  [**2124-7-21**]              ...</td>\n",
              "      <td>F</td>\n",
              "      <td>87</td>\n",
              "      <td>Brief Hospital Course:\\n87 yo F with h/o CHF, ...</td>\n",
              "      <td>&lt;re.Match object; span=(5073, 5100), match='\\n...</td>\n",
              "      <td>[HEENT, CV, GU, IMPRESSION, LABS AT DISCHARGE]</td>\n",
              "    </tr>\n",
              "    <tr>\n",
              "      <th>5</th>\n",
              "      <td>26880</td>\n",
              "      <td>135453.0</td>\n",
              "      <td>Admission Date:  [**2162-3-3**]              D...</td>\n",
              "      <td>M</td>\n",
              "      <td>82</td>\n",
              "      <td>Brief Hospital Course:\\nMr. [**Known lastname ...</td>\n",
              "      <td>&lt;re.Match object; span=(349, 368), match='\\n\\n...</td>\n",
              "      <td>[VS, CV, IMPRESSION, IMPRESSION, CT ABDOMEN WI...</td>\n",
              "    </tr>\n",
              "    <tr>\n",
              "      <th>9</th>\n",
              "      <td>56174</td>\n",
              "      <td>163469.0</td>\n",
              "      <td>Admission Date:  [**2118-8-10**]              ...</td>\n",
              "      <td>F</td>\n",
              "      <td>45</td>\n",
              "      <td>Brief Hospital Course:\\nPost-operatively she w...</td>\n",
              "      <td>&lt;re.Match object; span=(575, 602), match='\\n\\n...</td>\n",
              "      <td>[DIAGNOSIS, FINDINGS, IMPRESSION, FOLLOWING]</td>\n",
              "    </tr>\n",
              "    <tr>\n",
              "      <th>...</th>\n",
              "      <td>...</td>\n",
              "      <td>...</td>\n",
              "      <td>...</td>\n",
              "      <td>...</td>\n",
              "      <td>...</td>\n",
              "      <td>...</td>\n",
              "      <td>...</td>\n",
              "      <td>...</td>\n",
              "    </tr>\n",
              "    <tr>\n",
              "      <th>990</th>\n",
              "      <td>10830</td>\n",
              "      <td>120142.0</td>\n",
              "      <td>Admission Date:  [**2116-7-6**]              D...</td>\n",
              "      <td>F</td>\n",
              "      <td>86</td>\n",
              "      <td>Brief Hospital Course:\\n85 y/o F with MDS/RAEB...</td>\n",
              "      <td>&lt;re.Match object; span=(3230, 3257), match='\\n...</td>\n",
              "      <td>[ROS, HEENT, CV, LUNGS, ABD, EXT, ECG]</td>\n",
              "    </tr>\n",
              "    <tr>\n",
              "      <th>993</th>\n",
              "      <td>12411</td>\n",
              "      <td>173718.0</td>\n",
              "      <td>Admission Date:  [**2183-3-12**]     Discharge...</td>\n",
              "      <td>F</td>\n",
              "      <td>42</td>\n",
              "      <td>HOSPITAL COURSE:  While in the Emergency Depar...</td>\n",
              "      <td>&lt;re.Match object; span=(2284, 2342), match='\\n...</td>\n",
              "      <td>[CHIEF COMPLAINT, HISTORY OF PRESENT ILLNESS, ...</td>\n",
              "    </tr>\n",
              "    <tr>\n",
              "      <th>994</th>\n",
              "      <td>12411</td>\n",
              "      <td>163752.0</td>\n",
              "      <td>Admission Date:  [**2184-7-5**]     Discharge ...</td>\n",
              "      <td>F</td>\n",
              "      <td>43</td>\n",
              "      <td>HOSPITAL COURSE:  The patient was admitted to ...</td>\n",
              "      <td>&lt;re.Match object; span=(2546, 2573), match='\\n...</td>\n",
              "      <td>[HISTORY OF PRESENT ILLNESS, PAST MEDICAL HIST...</td>\n",
              "    </tr>\n",
              "    <tr>\n",
              "      <th>995</th>\n",
              "      <td>15198</td>\n",
              "      <td>137838.0</td>\n",
              "      <td>Admission Date:  [**2184-10-14**]       Discha...</td>\n",
              "      <td>F</td>\n",
              "      <td>76</td>\n",
              "      <td>HOSPITAL COURSE:  On the day of admission pati...</td>\n",
              "      <td>&lt;re.Match object; span=(3071, 3095), match='\\n...</td>\n",
              "      <td>[CHIEF COMPLAINT, HISTORY OF PRESENT ILLNESS, ...</td>\n",
              "    </tr>\n",
              "    <tr>\n",
              "      <th>999</th>\n",
              "      <td>76558</td>\n",
              "      <td>186116.0</td>\n",
              "      <td>Admission Date:  [**2157-12-1**]              ...</td>\n",
              "      <td>M</td>\n",
              "      <td>58</td>\n",
              "      <td>Brief Hospital Course:\\n58 year old male with ...</td>\n",
              "      <td>&lt;re.Match object; span=(2616, 2643), match='\\n...</td>\n",
              "      <td>[PAST MEDICAL HISTORY, VS, GENERAL, HEENT, NEC...</td>\n",
              "    </tr>\n",
              "  </tbody>\n",
              "</table>\n",
              "<p>685 rows × 8 columns</p>\n",
              "</div>\n",
              "      <button class=\"colab-df-convert\" onclick=\"convertToInteractive('df-0e56756a-41a1-48de-a007-41f796950ca2')\"\n",
              "              title=\"Convert this dataframe to an interactive table.\"\n",
              "              style=\"display:none;\">\n",
              "\n",
              "  <svg xmlns=\"http://www.w3.org/2000/svg\" height=\"24px\"viewBox=\"0 0 24 24\"\n",
              "       width=\"24px\">\n",
              "    <path d=\"M0 0h24v24H0V0z\" fill=\"none\"/>\n",
              "    <path d=\"M18.56 5.44l.94 2.06.94-2.06 2.06-.94-2.06-.94-.94-2.06-.94 2.06-2.06.94zm-11 1L8.5 8.5l.94-2.06 2.06-.94-2.06-.94L8.5 2.5l-.94 2.06-2.06.94zm10 10l.94 2.06.94-2.06 2.06-.94-2.06-.94-.94-2.06-.94 2.06-2.06.94z\"/><path d=\"M17.41 7.96l-1.37-1.37c-.4-.4-.92-.59-1.43-.59-.52 0-1.04.2-1.43.59L10.3 9.45l-7.72 7.72c-.78.78-.78 2.05 0 2.83L4 21.41c.39.39.9.59 1.41.59.51 0 1.02-.2 1.41-.59l7.78-7.78 2.81-2.81c.8-.78.8-2.07 0-2.86zM5.41 20L4 18.59l7.72-7.72 1.47 1.35L5.41 20z\"/>\n",
              "  </svg>\n",
              "      </button>\n",
              "\n",
              "\n",
              "\n",
              "    <div id=\"df-0779e752-5a66-4c49-8eeb-e58f46c82cd0\">\n",
              "      <button class=\"colab-df-quickchart\" onclick=\"quickchart('df-0779e752-5a66-4c49-8eeb-e58f46c82cd0')\"\n",
              "              title=\"Suggest charts.\"\n",
              "              style=\"display:none;\">\n",
              "\n",
              "<svg xmlns=\"http://www.w3.org/2000/svg\" height=\"24px\"viewBox=\"0 0 24 24\"\n",
              "     width=\"24px\">\n",
              "    <g>\n",
              "        <path d=\"M19 3H5c-1.1 0-2 .9-2 2v14c0 1.1.9 2 2 2h14c1.1 0 2-.9 2-2V5c0-1.1-.9-2-2-2zM9 17H7v-7h2v7zm4 0h-2V7h2v10zm4 0h-2v-4h2v4z\"/>\n",
              "    </g>\n",
              "</svg>\n",
              "      </button>\n",
              "    </div>\n",
              "\n",
              "<style>\n",
              "  .colab-df-quickchart {\n",
              "    background-color: #E8F0FE;\n",
              "    border: none;\n",
              "    border-radius: 50%;\n",
              "    cursor: pointer;\n",
              "    display: none;\n",
              "    fill: #1967D2;\n",
              "    height: 32px;\n",
              "    padding: 0 0 0 0;\n",
              "    width: 32px;\n",
              "  }\n",
              "\n",
              "  .colab-df-quickchart:hover {\n",
              "    background-color: #E2EBFA;\n",
              "    box-shadow: 0px 1px 2px rgba(60, 64, 67, 0.3), 0px 1px 3px 1px rgba(60, 64, 67, 0.15);\n",
              "    fill: #174EA6;\n",
              "  }\n",
              "\n",
              "  [theme=dark] .colab-df-quickchart {\n",
              "    background-color: #3B4455;\n",
              "    fill: #D2E3FC;\n",
              "  }\n",
              "\n",
              "  [theme=dark] .colab-df-quickchart:hover {\n",
              "    background-color: #434B5C;\n",
              "    box-shadow: 0px 1px 3px 1px rgba(0, 0, 0, 0.15);\n",
              "    filter: drop-shadow(0px 1px 2px rgba(0, 0, 0, 0.3));\n",
              "    fill: #FFFFFF;\n",
              "  }\n",
              "</style>\n",
              "\n",
              "    <script>\n",
              "      async function quickchart(key) {\n",
              "        const containerElement = document.querySelector('#' + key);\n",
              "        const charts = await google.colab.kernel.invokeFunction(\n",
              "            'suggestCharts', [key], {});\n",
              "      }\n",
              "    </script>\n",
              "\n",
              "      <script>\n",
              "\n",
              "function displayQuickchartButton(domScope) {\n",
              "  let quickchartButtonEl =\n",
              "    domScope.querySelector('#df-0779e752-5a66-4c49-8eeb-e58f46c82cd0 button.colab-df-quickchart');\n",
              "  quickchartButtonEl.style.display =\n",
              "    google.colab.kernel.accessAllowed ? 'block' : 'none';\n",
              "}\n",
              "\n",
              "        displayQuickchartButton(document);\n",
              "      </script>\n",
              "      <style>\n",
              "    .colab-df-container {\n",
              "      display:flex;\n",
              "      flex-wrap:wrap;\n",
              "      gap: 12px;\n",
              "    }\n",
              "\n",
              "    .colab-df-convert {\n",
              "      background-color: #E8F0FE;\n",
              "      border: none;\n",
              "      border-radius: 50%;\n",
              "      cursor: pointer;\n",
              "      display: none;\n",
              "      fill: #1967D2;\n",
              "      height: 32px;\n",
              "      padding: 0 0 0 0;\n",
              "      width: 32px;\n",
              "    }\n",
              "\n",
              "    .colab-df-convert:hover {\n",
              "      background-color: #E2EBFA;\n",
              "      box-shadow: 0px 1px 2px rgba(60, 64, 67, 0.3), 0px 1px 3px 1px rgba(60, 64, 67, 0.15);\n",
              "      fill: #174EA6;\n",
              "    }\n",
              "\n",
              "    [theme=dark] .colab-df-convert {\n",
              "      background-color: #3B4455;\n",
              "      fill: #D2E3FC;\n",
              "    }\n",
              "\n",
              "    [theme=dark] .colab-df-convert:hover {\n",
              "      background-color: #434B5C;\n",
              "      box-shadow: 0px 1px 3px 1px rgba(0, 0, 0, 0.15);\n",
              "      filter: drop-shadow(0px 1px 2px rgba(0, 0, 0, 0.3));\n",
              "      fill: #FFFFFF;\n",
              "    }\n",
              "  </style>\n",
              "\n",
              "      <script>\n",
              "        const buttonEl =\n",
              "          document.querySelector('#df-0e56756a-41a1-48de-a007-41f796950ca2 button.colab-df-convert');\n",
              "        buttonEl.style.display =\n",
              "          google.colab.kernel.accessAllowed ? 'block' : 'none';\n",
              "\n",
              "        async function convertToInteractive(key) {\n",
              "          const element = document.querySelector('#df-0e56756a-41a1-48de-a007-41f796950ca2');\n",
              "          const dataTable =\n",
              "            await google.colab.kernel.invokeFunction('convertToInteractive',\n",
              "                                                     [key], {});\n",
              "          if (!dataTable) return;\n",
              "\n",
              "          const docLinkHtml = 'Like what you see? Visit the ' +\n",
              "            '<a target=\"_blank\" href=https://colab.research.google.com/notebooks/data_table.ipynb>data table notebook</a>'\n",
              "            + ' to learn more about interactive tables.';\n",
              "          element.innerHTML = '';\n",
              "          dataTable['output_type'] = 'display_data';\n",
              "          await google.colab.output.renderOutput(dataTable, element);\n",
              "          const docLink = document.createElement('div');\n",
              "          docLink.innerHTML = docLinkHtml;\n",
              "          element.appendChild(docLink);\n",
              "        }\n",
              "      </script>\n",
              "    </div>\n",
              "  </div>\n"
            ]
          },
          "metadata": {},
          "execution_count": 68
        }
      ]
    },
    {
      "cell_type": "code",
      "source": [
        "dis_notes_ = dis_notes"
      ],
      "metadata": {
        "id": "2IMepsLCqK9i"
      },
      "execution_count": null,
      "outputs": []
    },
    {
      "cell_type": "markdown",
      "source": [
        "####**KEY SECTIONS**"
      ],
      "metadata": {
        "id": "01NqYniRD5wo"
      }
    },
    {
      "cell_type": "code",
      "source": [
        "out_texts = dis_notes.TEXT.apply(section_discharge_texts)"
      ],
      "metadata": {
        "id": "UWRwO6RtsHzH"
      },
      "execution_count": null,
      "outputs": []
    },
    {
      "cell_type": "code",
      "source": [
        "pickle.dump(out_texts, open('dis_course_secs.pickle', 'wb'))"
      ],
      "metadata": {
        "id": "yr43WulIsMSv"
      },
      "execution_count": null,
      "outputs": []
    },
    {
      "cell_type": "code",
      "source": [
        "brief_hos_course_secs = []\n",
        "other_secs = []\n",
        "dis_course_headers = [h.lower().strip().replace(':', '') for h in dis_sum_brief_hos_course_headers]\n",
        "for row in out_texts:\n",
        "    brief_hos_course = None\n",
        "    brief_hos_course_idx = None\n",
        "    for i, (sec, sec_name) in enumerate(zip(row[0], row[1])):\n",
        "        if sec_name in dis_course_headers:\n",
        "            brief_hos_course = sec\n",
        "            brief_hos_course_idx = i\n",
        "    if brief_hos_course_idx is not None:\n",
        "        row_secs = row[0][0:brief_hos_course_idx] + row[0][brief_hos_course_idx+1:]\n",
        "        row_sec_headers = row[1][0:brief_hos_course_idx] + row[1][brief_hos_course_idx+1:]\n",
        "    brief_hos_course_secs.append(brief_hos_course)\n",
        "    other_secs.append([row_secs, row_sec_headers])"
      ],
      "metadata": {
        "id": "971pz0MIs-nO"
      },
      "execution_count": null,
      "outputs": []
    },
    {
      "cell_type": "code",
      "source": [
        "other_sec_header_counts = Counter(list(chain.from_iterable([o[1] for o in other_secs])))"
      ],
      "metadata": {
        "id": "s2MP6XkYtj6s"
      },
      "execution_count": null,
      "outputs": []
    },
    {
      "cell_type": "code",
      "source": [
        "sec_headers_df = pd.Series(other_sec_header_counts).sort_values(ascending=False).reset_index()\n",
        "print(sec_headers_df.shape)\n",
        "hdrs = sec_headers_df['index'].tolist()"
      ],
      "metadata": {
        "colab": {
          "base_uri": "https://localhost:8080/"
        },
        "id": "46OWZd-etoft",
        "outputId": "062235f2-9649-4422-d0f6-cef96dd25ce5"
      },
      "execution_count": null,
      "outputs": [
        {
          "output_type": "stream",
          "name": "stdout",
          "text": [
            "(60, 2)\n"
          ]
        }
      ]
    },
    {
      "cell_type": "code",
      "source": [
        "print('\\n'.join([f'{h}:{c}' for h,c in zip(sec_headers_df['index'].tolist(), sec_headers_df[0].tolist())]))"
      ],
      "metadata": {
        "id": "Z1y8VRtctqQ1",
        "colab": {
          "base_uri": "https://localhost:8080/"
        },
        "outputId": "42ec5e4a-dc45-4376-dbfb-b43eda8c5a86"
      },
      "execution_count": null,
      "outputs": [
        {
          "output_type": "stream",
          "name": "stdout",
          "text": [
            "preamble:685\n",
            "history of present illness:666\n",
            "past medical history:662\n",
            "discharge medications:563\n",
            "medications on admission:561\n",
            "physical exam:540\n",
            "discharge diagnosis:531\n",
            "discharge condition:505\n",
            "discharge instructions:499\n",
            "discharge disposition:496\n",
            "dictated by:198\n",
            "impression:188\n",
            "physical examination:116\n",
            "condition on discharge:73\n",
            "discharge diagnoses:73\n",
            "laboratory data:72\n",
            "discharge status:60\n",
            "medications:53\n",
            "medications on discharge:39\n",
            "disposition:27\n",
            "hpi:22\n",
            "condition at discharge:22\n",
            "follow-up:16\n",
            "final diagnosis:16\n",
            "follow up:16\n",
            "cv:11\n",
            "id:10\n",
            "discharge instructions/followup:10\n",
            "brief hospital course:8\n",
            "transitional issues:8\n",
            "gi:7\n",
            "procedure:6\n",
            "diagnosis:5\n",
            "labs on discharge:5\n",
            "discharge followup:5\n",
            "fen:4\n",
            "discharge plan:4\n",
            "physical examination on discharge:4\n",
            "plan:4\n",
            "hospital course:4\n",
            "note:3\n",
            "addendum:3\n",
            "final diagnoses:3\n",
            "follow-up instructions:3\n",
            "code:2\n",
            "active issues:2\n",
            "code status:2\n",
            "postoperative course was remarkable for the following:2\n",
            "final discharge diagnoses:2\n",
            "comm:2\n",
            "chronic issues:1\n",
            "condition:1\n",
            "condition of discharge:1\n",
            "medications at the time of discharge:1\n",
            "problem list:1\n",
            "floor course:1\n",
            "condition on transfer:1\n",
            "of note:1\n",
            "icu course:1\n",
            "micu course:1\n"
          ]
        }
      ]
    },
    {
      "cell_type": "markdown",
      "source": [
        "### **Segmenting and Structuring Discharge Summary Content**"
      ],
      "metadata": {
        "id": "q79CNrFok4CJ"
      }
    },
    {
      "cell_type": "code",
      "source": [
        "headers_to_use = [\n",
        "    \"preamble\",\n",
        "    \"history of present illness\",\n",
        "    \"past medical history\",\n",
        "    \"discharge medications\",\n",
        "    \"medications on admission\",\n",
        "    \"discharge diagnosis\",\n",
        "    \"discharge disposition\",\n",
        "    \"impression\",\n",
        "    \"problem list\",\n",
        "]"
      ],
      "metadata": {
        "id": "A7jqSewAtsXF"
      },
      "execution_count": null,
      "outputs": []
    },
    {
      "cell_type": "code",
      "source": [
        "filtered_out_texts = []\n",
        "for secs, sec_headers, _ in out_texts:\n",
        "    filtered_secs, filtered_headers = [], []\n",
        "    for sec, sec_h in zip(secs, sec_headers):\n",
        "        if sec_h in headers_to_use:\n",
        "            filtered_secs.append(sec)\n",
        "            filtered_headers.append(sec_h)\n",
        "    filtered_out_texts.append([filtered_secs, filtered_headers])"
      ],
      "metadata": {
        "id": "0Rnq3XOgtzKj"
      },
      "execution_count": null,
      "outputs": []
    },
    {
      "cell_type": "code",
      "source": [
        "dis_notes.columns"
      ],
      "metadata": {
        "colab": {
          "base_uri": "https://localhost:8080/"
        },
        "id": "N59nA_QtuAAM",
        "outputId": "dfd411bb-7e40-4608-f6f0-c62651092002"
      },
      "execution_count": null,
      "outputs": [
        {
          "output_type": "execute_result",
          "data": {
            "text/plain": [
              "Index(['SUBJECT_ID', 'HADM_ID', 'TEXT', 'GENDER', 'SUBJECT_AGE', 'HOS_COURSE',\n",
              "       'next_sec_matches', 'HOS_COURSE_SUBSECTIONS'],\n",
              "      dtype='object')"
            ]
          },
          "metadata": {},
          "execution_count": 79
        }
      ]
    },
    {
      "cell_type": "code",
      "source": [
        "dis_notes['other_dis_notes_secs'] = filtered_out_texts"
      ],
      "metadata": {
        "id": "xbm2CWXL0ePr"
      },
      "execution_count": null,
      "outputs": []
    },
    {
      "cell_type": "code",
      "source": [
        "def extract_subsection_content(text, target_subsection, subsections):\n",
        "    \"\"\"\n",
        "    Extracts the content of the target_subsection from the given text using the subsections list.\n",
        "\n",
        "    Parameters:\n",
        "        text (str): The input discharge summary text.\n",
        "        target_subsection (str): The name of the subsection whose content is to be extracted.\n",
        "        subsections (list): List of all subsections in the discharge summary.\n",
        "\n",
        "    Returns:\n",
        "        str: The content of the target_subsection if found, else an empty string.\n",
        "    \"\"\"\n",
        "    subsections_lower = [subsection.lower() for subsection in subsections]\n",
        "    if target_subsection.lower() in subsections_lower:\n",
        "        start_pattern = target_subsection.lower()\n",
        "        start_position = text.lower().find(start_pattern)\n",
        "    else:\n",
        "        return \"\"\n",
        "\n",
        "    if start_position is not None:\n",
        "        end_positions = []\n",
        "        for subsection in subsections_lower:\n",
        "            if subsection != start_pattern:\n",
        "                end_position = text.lower().find(subsection)\n",
        "                if end_position != -1:\n",
        "                    end_positions.append(end_position)\n",
        "        valid_end_positions = [end_pos for end_pos in end_positions if end_pos > start_position]\n",
        "        if valid_end_positions:\n",
        "            end_position = min(valid_end_positions)\n",
        "        else:\n",
        "            end_position = len(text)\n",
        "        content = text[start_position:end_position].strip()\n",
        "        return content\n",
        "    return \"\"\n",
        "subsections = ['FINAL DIAGNOSES', 'FOLLOW-UP PLANS', 'DISCHARGE MEDICATIONS', 'DISCHARGE STATUS', 'DISCHARGE CONDITION',\n",
        "               'BRIEF SUMMARY OF HOSPITAL COURSE', 'LABORATORY STUDIES', 'PHYSICAL EXAM AT TIME OF ADMISSION', 'SOCIAL HISTORY',\n",
        "               'FAMILY HISTOR', 'ALLERGIES', 'MEDICATIONS ON ADMISSION', 'PAST MEDICAL HISTORY', 'HISTORY OF PRESENT ILLNESS',\n",
        "               'Admission Date', 'Discharge Date', 'Date of Birth', 'Sex', 'Service']"
      ],
      "metadata": {
        "id": "nUGGweSVRfgk"
      },
      "execution_count": null,
      "outputs": []
    },
    {
      "cell_type": "code",
      "source": [
        "targets = ['FOLLOW-UP PLANS', 'DISCHARGE CONDITION', 'PAST MEDICAL HISTORY']\n",
        "for target in targets:\n",
        "    dis_notes[target] = dis_notes['TEXT'].apply(lambda text: extract_subsection_content(text, target, subsections))"
      ],
      "metadata": {
        "id": "nVCZIKOpT96R"
      },
      "execution_count": null,
      "outputs": []
    },
    {
      "cell_type": "code",
      "source": [
        "dis_notes.columns"
      ],
      "metadata": {
        "colab": {
          "base_uri": "https://localhost:8080/"
        },
        "id": "eZn7QckI9ORU",
        "outputId": "a5d66618-07e3-4a8f-8575-524cb76c3f22"
      },
      "execution_count": null,
      "outputs": [
        {
          "output_type": "execute_result",
          "data": {
            "text/plain": [
              "Index(['SUBJECT_ID', 'HADM_ID', 'TEXT', 'GENDER', 'SUBJECT_AGE', 'HOS_COURSE',\n",
              "       'next_sec_matches', 'HOS_COURSE_SUBSECTIONS', 'other_dis_notes_secs',\n",
              "       'FOLLOW-UP PLANS', 'DISCHARGE CONDITION', 'PAST MEDICAL HISTORY'],\n",
              "      dtype='object')"
            ]
          },
          "metadata": {},
          "execution_count": 85
        }
      ]
    },
    {
      "cell_type": "markdown",
      "source": [
        "## **Structuring and Integration**"
      ],
      "metadata": {
        "id": "GqEN5Cnjufqz"
      }
    },
    {
      "cell_type": "code",
      "source": [
        "hadms_to_dis_course = [{'HADM_ID': r.HADM_ID, 'text': r.HOS_COURSE_SUBSECTIONS} for r in dis_notes.itertuples() if len(r.HOS_COURSE_SUBSECTIONS) > 0]"
      ],
      "metadata": {
        "id": "oFZaGURWyIal"
      },
      "execution_count": null,
      "outputs": []
    },
    {
      "cell_type": "code",
      "source": [
        "hadms_to_hosp_course = {}\n",
        "for item in hadms_to_dis_course:\n",
        "    h = item['HADM_ID']\n",
        "    h_notes = dis_notes[dis_notes.HADM_ID == h]\n",
        "    secs, sec_headers = dis_notes[dis_notes.HADM_ID == h].iloc[0].other_dis_notes_secs\n",
        "    dis_notes_extension = '\\n\\n'.join([f'{h}\\n{sec}' for sec, h in zip(secs, sec_headers)])\n",
        "    hadms_to_hosp_course[h] = f'\\nDischarge summary\\n{dis_notes_extension}'"
      ],
      "metadata": {
        "id": "-nWFHaPGyu97"
      },
      "execution_count": null,
      "outputs": []
    },
    {
      "cell_type": "markdown",
      "source": [
        "# **Save the Data for easy retrieval**"
      ],
      "metadata": {
        "id": "CdaaEDKhYOUt"
      }
    },
    {
      "cell_type": "code",
      "source": [
        "json.dump(hadms_to_dis_course, open('hadms_to_dis_course.json', 'w'))"
      ],
      "metadata": {
        "id": "AQBiBEj907YY"
      },
      "execution_count": null,
      "outputs": []
    },
    {
      "cell_type": "code",
      "source": [
        "json.dump(hadms_to_hosp_course, open('hadms_to_hosp_course.json', 'w'))"
      ],
      "metadata": {
        "id": "EZkD77u10-Vg"
      },
      "execution_count": null,
      "outputs": []
    },
    {
      "cell_type": "code",
      "source": [
        "data = data.merge(dis_notes, on=['SUBJECT_ID', 'HADM_ID'], how='inner')"
      ],
      "metadata": {
        "id": "JWbUpnGP9uhx"
      },
      "execution_count": null,
      "outputs": []
    },
    {
      "cell_type": "code",
      "source": [
        "data.columns"
      ],
      "metadata": {
        "colab": {
          "base_uri": "https://localhost:8080/"
        },
        "id": "o7Uhvyb4-LzY",
        "outputId": "e181c4ff-f10f-452e-880c-12e1ba45aecb"
      },
      "execution_count": null,
      "outputs": [
        {
          "output_type": "execute_result",
          "data": {
            "text/plain": [
              "Index(['SUBJECT_ID', 'HADM_ID', 'ADMITTIME', 'DISCHTIME', 'DIAGNOSIS',\n",
              "       'CURR_SERVICE', 'GENDER', 'DOB', 'STARTDATE', 'ENDDATE', 'DRUG',\n",
              "       'DIAGNOSIS_TITLES', 'PROCEDURE_TITLES', 'ALLERGIES', 'FINAL DIAGNOSES',\n",
              "       'DISCHARGE MEDICATIONS', 'TEXT', 'SUBJECT_AGE', 'HOS_COURSE',\n",
              "       'HOS_COURSE_SUBSECTIONS', 'DIS_NOTES', 'FOLLOW-UP PLANS',\n",
              "       'DISCHARGE CONDITION', 'PAST MEDICAL HISTORY'],\n",
              "      dtype='object')"
            ]
          },
          "metadata": {},
          "execution_count": 97
        }
      ]
    },
    {
      "cell_type": "code",
      "source": [
        "csv_data = data.to_csv(index=False)\n",
        "output_file = '/content/drive/MyDrive/Data.csv'\n",
        "with open(output_file, 'w') as f:\n",
        "    f.write(csv_data)\n",
        "from IPython.display import FileLink\n",
        "FileLink(output_file)\n"
      ],
      "metadata": {
        "colab": {
          "base_uri": "https://localhost:8080/",
          "height": 34
        },
        "id": "ugQbakCY_SL2",
        "outputId": "a2ee93e2-1c0a-461d-f528-d14bd24258c4"
      },
      "execution_count": null,
      "outputs": [
        {
          "output_type": "execute_result",
          "data": {
            "text/plain": [
              "/content/drive/MyDrive/Data.csv"
            ],
            "text/html": [
              "<a href='/content/drive/MyDrive/Data.csv' target='_blank'>/content/drive/MyDrive/Data.csv</a><br>"
            ]
          },
          "metadata": {},
          "execution_count": 98
        }
      ]
    },
    {
      "cell_type": "code",
      "source": [
        "import pandas as pd"
      ],
      "metadata": {
        "id": "3IovbfdvpyAS"
      },
      "execution_count": null,
      "outputs": []
    },
    {
      "cell_type": "code",
      "source": [],
      "metadata": {
        "id": "bzGWEy0Qpztq"
      },
      "execution_count": null,
      "outputs": []
    }
  ]
}